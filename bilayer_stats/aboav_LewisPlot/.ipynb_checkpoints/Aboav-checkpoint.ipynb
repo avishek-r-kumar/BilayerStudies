{
 "metadata": {
  "name": ""
 },
 "nbformat": 3,
 "nbformat_minor": 0,
 "worksheets": [
  {
   "cells": [
    {
     "cell_type": "heading",
     "level": 1,
     "metadata": {},
     "source": [
      "For Plotting the Aboav Function\n"
     ]
    },
    {
     "cell_type": "code",
     "collapsed": false,
     "input": [
      "def PlotAboav(filename,title,mu2,alpha=0.80):\n",
      "        \n",
      "    file = open(filename,\"r\")\n",
      "    ringsize = []\n",
      "    aring = []\n",
      "   \n",
      "    for line in file:\n",
      "        ringsize.append(line.strip('\\n').split()[0])\n",
      "        aring.append(line.strip('\\n').split()[1])\n",
      "    \n",
      "    ringsize = np.array(ringsize,dtype=int)\n",
      "    aring = np.array(aring,dtype=float)\n",
      "   \n",
      "    print \"ringsize\"\n",
      "    print ringsize[3:11]\n",
      "    \n",
      "    acurve = 6*(1-alpha)*(ringsize[3:11]-6)+36+mu2\n",
      "    print \"acurve\"\n",
      "    print acurve \n",
      "    \n",
      "    plt.plot(ringsize[3:11],ringsize[3:11]*aring[3:11],'ro')\n",
      "    plt.plot(float(6.),36.+mu2,'ko')\n",
      "    plt.plot(ringsize[3:11],acurve,'b-')\n",
      "    plt.xlabel('ring size,$r$')\n",
      "    plt.ylabel('$r m_{r}$')\n",
      "    plt.xlim(3.5,10.5)\n",
      "    plt.ylim(20,60)\n",
      "    print 36+mu2\n",
      "    plt.legend([title,\"$36+\\mu_{2}$\",r'$\\alpha=$%.2f'%alpha],loc=4) \n",
      "    plt.title(title +' Aboav Function')\n",
      "    plt.savefig(title+'_Aboav.png',dpi=125)\n",
      "    plt.show()\n",
      "    #plt.clf()"
     ],
     "language": "python",
     "metadata": {},
     "outputs": [],
     "prompt_number": 1
    },
    {
     "cell_type": "code",
     "collapsed": false,
     "input": [
      "def getmu2s(mu2files):\n",
      "    mu2s = []\n",
      "    for mu2 in mu2files:\n",
      "        file = open(mu2,\"r\")\n",
      "        mu2s.append( float(file.readline()) )\n",
      "        file.close()\n",
      "    return np.array(mu2s,dtype=float)"
     ],
     "language": "python",
     "metadata": {},
     "outputs": [],
     "prompt_number": 2
    },
    {
     "cell_type": "code",
     "collapsed": false,
     "input": [
      "files=[\"cornell-A_abaov.dat\",\"cornell-B_abaov.dat\",\"heyde_aboav.dat\",\"836a_aboav.dat\",\"432b_aboav.dat\",\"berlin-A_aboav.dat\",\"berlin-B_aboav.dat\",\"432harm_aboav.dat\"]\n",
      "#files=[\"cornell-A_aboav.dat\"]\n",
      "title = []\n",
      "for file in files:\n",
      "    title.append(file.split('_')[0])\n",
      "mu2files=[\"cornell-A_ringhist.dat\",\"cornell-B_ringhist.dat\",\"heyde_ringhist.dat\",\"836a_ringhist.dat\",\"432b_ringhist.dat\",\"berlin-A_ringhist.dat\",\"berlin-B_ringhist.dat\",\"432harm_ringhist.dat\"]\n",
      "mu2 = getmu2s(mu2files)\n",
      "print mu2"
     ],
     "language": "python",
     "metadata": {},
     "outputs": [
      {
       "output_type": "stream",
       "stream": "stdout",
       "text": [
        "[ 0.943567]\n"
       ]
      }
     ],
     "prompt_number": 3
    },
    {
     "cell_type": "code",
     "collapsed": false,
     "input": [
      "#for i in range(len(files)):\n",
      "PlotAboav(files[0],title[0],mu2[0],alpha=0.15)"
     ],
     "language": "python",
     "metadata": {},
     "outputs": [
      {
       "output_type": "stream",
       "stream": "stdout",
       "text": [
        "ringsize\n",
        "[ 3  4  5  6  7  8  9 10]\n",
        "acurve\n",
        "[ 21.643567  26.743567  31.843567  36.943567  42.043567  47.143567\n",
        "  52.243567  57.343567]\n",
        "36.943567"
       ]
      },
      {
       "output_type": "stream",
       "stream": "stdout",
       "text": [
        "\n"
       ]
      },
      {
       "metadata": {},
       "output_type": "display_data",
       "png": "[encoded data removed]",
       "text": [
        "<matplotlib.figure.Figure at 0x9518acc>"
       ]
      }
     ],
     "prompt_number": 4
    },
    {
     "cell_type": "heading",
     "level": 2,
     "metadata": {},
     "source": [
      "For Plotting All Networks on A Single Graph "
     ]
    },
    {
     "cell_type": "code",
     "collapsed": false,
     "input": [
      "def getAboavData(fname):\n",
      "    file = open(fname,\"r\")\n",
      "    ring = []\n",
      "    area = []\n",
      "    \n",
      "    for line in file: \n",
      "        ring.append(line.strip('\\n').split()[0])\n",
      "        area.append(line.strip('\\n').split()[1])\n",
      "    \n",
      "    file.close()\n",
      "            \n",
      "    return np.array(ring,dtype=int), np.array(area,dtype=float)"
     ],
     "language": "python",
     "metadata": {},
     "outputs": [],
     "prompt_number": 5
    },
    {
     "cell_type": "code",
     "collapsed": false,
     "input": [
      "def plAboavs(files,title):\n",
      "    for file in files:\n",
      "        ring, area = getAboavData(file)\n",
      "        plt.plot(ring[3:11],ring[3:11]*area[3:11],'o')\n",
      "    plt.legend(['cornell-A','cornell-B','heyde'],loc=4)\n",
      "    plt.ylim(10,60)\n",
      "    plt.xlim(3.5,10.5)\n",
      "    plt.xlabel(\"ring size,$r$\")\n",
      "    plt.ylabel(\"$r m_{r}$\")\n",
      "    plt.title(\"Aboav Function\")\n",
      "    plt.savefig(\"aboav.png\",dpi=150)\n",
      "plAboavs(files,title)"
     ],
     "language": "python",
     "metadata": {},
     "outputs": [
      {
       "metadata": {},
       "output_type": "display_data",
       "png": "[encoded data removed]",
       "text": [
        "<matplotlib.figure.Figure at 0xa59046c>"
       ]
      }
     ],
     "prompt_number": 6
    },
    {
     "cell_type": "heading",
     "level": 2,
     "metadata": {},
     "source": [
      "Fitting a Line "
     ]
    },
    {
     "cell_type": "code",
     "collapsed": false,
     "input": [
      "x = np.array"
     ],
     "language": "python",
     "metadata": {},
     "outputs": []
    }
   ],
   "metadata": {}
  }
 ]
}