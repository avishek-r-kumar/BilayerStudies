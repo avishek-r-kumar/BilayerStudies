{
 "metadata": {
  "name": ""
 },
 "nbformat": 3,
 "nbformat_minor": 0,
 "worksheets": [
  {
   "cells": [
    {
     "cell_type": "heading",
     "level": 1,
     "metadata": {},
     "source": [
      "Lewis's Law Plots"
     ]
    },
    {
     "cell_type": "code",
     "collapsed": false,
     "input": [
      "ringfiles=[\"cornell-A_ringhist.dat\",\"cornell-B_ringhist.dat\",\"heyde_ringhist.dat\"]\n",
      "areafiles=[\"cornell-A_areahist.dat\",\"cornell-B_areahist.dat\",\"heyde_areahist.dat\"]\n",
      "titles = []\n",
      "for file in ringfiles:\n",
      "    titles.append( file.split('_')[0] )\n",
      " "
     ],
     "language": "python",
     "metadata": {},
     "outputs": [],
     "prompt_number": 64
    },
    {
     "cell_type": "code",
     "collapsed": false,
     "input": [
      "def getData(filename):\n",
      "    \"\"\"\n",
      "    Returns a top level value (e.g. mu2 or area length) and \n",
      "    list of values \n",
      "    \"\"\"\n",
      "    data = []\n",
      "    file = open(filename,\"r\")\n",
      "    value = float(file.readline())\n",
      "    for line in file:\n",
      "        data.append( line.strip('\\n').split()[1] )\n",
      "    file.close()\n",
      "    \n",
      "    return value,data"
     ],
     "language": "python",
     "metadata": {},
     "outputs": [],
     "prompt_number": 65
    },
    {
     "cell_type": "code",
     "collapsed": false,
     "input": [
      "def LewisPlot(ringfile,areafile,title):\n",
      "        mu2, ring = getData(ringfile)\n",
      "        area_length, area = getData(areafile)\n",
      "        ring = np.array(ring,dtype=int)\n",
      "        area = np.array(area,dtype=float)\n",
      "        area_ring = (area/ring)\n",
      "        area_ring[np.isnan(area_ring)] = 0 \n",
      "                \n",
      "        totalarea = np.sum(area)\n",
      "        totalring = np.sum(ring)\n",
      "           \n",
      "        \n",
      "        plt.plot(range(4,12),area_ring,'ro')\n",
      "        plt.plot(6,(2*totalarea/totalring),'ko')\n",
      "        plt.xlabel('Ring Size $r$')\n",
      "        plt.ylabel(r'Average Area per Ring $\\frac{A_{r}}{<l>^{2}}$')\n",
      "        plt.xlim(3.5,10.5)\n",
      "        plt.legend([title,\"2a\"],loc=4)\n",
      "        plt.title(title + \" Lewis's Law\")\n",
      "        plt.savefig(title+\"_lewis.png\",dpi=125)\n",
      "        plt.clf()\n",
      "        "
     ],
     "language": "python",
     "metadata": {},
     "outputs": [],
     "prompt_number": 66
    },
    {
     "cell_type": "code",
     "collapsed": false,
     "input": [
      "for i in range(len(ringfiles)): LewisPlot(ringfiles[i],areafiles[i],titles[i])"
     ],
     "language": "python",
     "metadata": {},
     "outputs": [
      {
       "metadata": {},
       "output_type": "display_data",
       "text": [
        "<matplotlib.figure.Figure at 0xa0c838c>"
       ]
      }
     ],
     "prompt_number": 67
    },
    {
     "cell_type": "heading",
     "level": 2,
     "metadata": {},
     "source": [
      "All Data on a Single Plot"
     ]
    },
    {
     "cell_type": "code",
     "collapsed": false,
     "input": [
      "def LewisPlots(ringfiles,areafiles,titles):\n",
      "    for i in range(len(ringfiles)):\n",
      "        mu2, ring = getData(ringfiles[i])\n",
      "        area_length, area = getData(areafiles[i])\n",
      "        ring = np.array(ring,dtype=int)\n",
      "        area = np.array(area,dtype=float)\n",
      "        area_ring = (area/ring)\n",
      "        area_ring[np.isnan(area_ring)] = 0 \n",
      "        plt.plot(range(4,12),area_ring,'o')\n",
      "    \n",
      "    plt.xlim(3.5,10.5)\n",
      "    plt.xlabel('Ring Size $r$')\n",
      "    plt.ylabel(r'Average Area per Ring $\\frac{A_{r}}{<l>^{2}}$')\n",
      "    plt.title(\"Lewis's Law\")\n",
      "    legend(titles,loc=4)\n",
      "    plt.savefig(\"lewis.png\",dpi=125)\n",
      "    plt.clf()"
     ],
     "language": "python",
     "metadata": {},
     "outputs": [],
     "prompt_number": 68
    },
    {
     "cell_type": "code",
     "collapsed": false,
     "input": [
      "LewisPlots(ringfiles,areafiles,titles)"
     ],
     "language": "python",
     "metadata": {},
     "outputs": [
      {
       "metadata": {},
       "output_type": "display_data",
       "text": [
        "<matplotlib.figure.Figure at 0xad100ac>"
       ]
      }
     ],
     "prompt_number": 69
    },
    {
     "cell_type": "code",
     "collapsed": false,
     "input": [],
     "language": "python",
     "metadata": {},
     "outputs": []
    }
   ],
   "metadata": {}
  }
 ]
}