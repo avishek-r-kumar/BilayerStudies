{
 "metadata": {
  "name": ""
 },
 "nbformat": 3,
 "nbformat_minor": 0,
 "worksheets": [
  {
   "cells": [
    {
     "cell_type": "heading",
     "level": 1,
     "metadata": {},
     "source": [
      "Lewis's Law Plots"
     ]
    },
    {
     "cell_type": "code",
     "collapsed": false,
     "input": [
      "ringfiles=[\"cornell-A_ringhist.dat\",\"cornell-B_ringhist.dat\",\"heyde_ringhist.dat\"]\n",
      "areafiles=[\"cornell-A_areahist.dat\",\"cornell-B_areahist.dat\",\"heyde_areahist.dat\"]\n",
      "titles = []\n",
      "for file in ringfiles:\n",
      "    titles.append( file.split('_')[0] )\n",
      " "
     ],
     "language": "python",
     "metadata": {},
     "outputs": [],
     "prompt_number": 5
    },
    {
     "cell_type": "code",
     "collapsed": false,
     "input": [
      "def getData(filename):\n",
      "    \"\"\"\n",
      "    Returns a top level value (e.g. mu2 or area length) and \n",
      "    list of values \n",
      "    \"\"\"\n",
      "    data = []\n",
      "    file = open(filename,\"r\")\n",
      "    value = float(file.readline())\n",
      "    for line in file:\n",
      "        data.append( line.strip('\\n').split()[1] )\n",
      "    file.close()\n",
      "    \n",
      "    return value,data"
     ],
     "language": "python",
     "metadata": {},
     "outputs": [],
     "prompt_number": 6
    },
    {
     "cell_type": "code",
     "collapsed": false,
     "input": [
      "def LewisPlot(ringfile,areafile,title):\n",
      "        mu2, ring = getData(ringfile)\n",
      "        area_length, area = getData(areafile)\n",
      "        ring = np.array(ring,dtype=int)\n",
      "        area = np.array(area,dtype=float)\n",
      "        area_ring = (area/ring)\n",
      "        area_ring[np.isnan(area_ring)] = 0 \n",
      "        \n",
      "        plt.plot(range(4,12),area_ring)\n",
      "        plt.xlabel('Ring Size $r$')\n",
      "        plt.ylabel('Average Area per Ring')\n",
      "        plt.title(title + \" Lewis's Law\")\n",
      "        "
     ],
     "language": "python",
     "metadata": {},
     "outputs": [
      {
       "ename": "SyntaxError",
       "evalue": "invalid syntax (<ipython-input-7-9093dda8911c>, line 2)",
       "output_type": "pyerr",
       "traceback": [
        "\u001b[1;36m  File \u001b[1;32m\"<ipython-input-7-9093dda8911c>\"\u001b[1;36m, line \u001b[1;32m2\u001b[0m\n\u001b[1;33m    mu2, np.array(\u001b[0m\n\u001b[1;37m                  ^\u001b[0m\n\u001b[1;31mSyntaxError\u001b[0m\u001b[1;31m:\u001b[0m invalid syntax\n"
       ]
      }
     ],
     "prompt_number": 7
    },
    {
     "cell_type": "code",
     "collapsed": false,
     "input": [],
     "language": "python",
     "metadata": {},
     "outputs": []
    }
   ],
   "metadata": {}
  }
 ]
}