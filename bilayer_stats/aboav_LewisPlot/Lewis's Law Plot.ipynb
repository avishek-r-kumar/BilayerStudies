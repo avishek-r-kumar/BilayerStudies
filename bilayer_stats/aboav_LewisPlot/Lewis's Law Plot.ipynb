{
 "metadata": {
  "name": ""
 },
 "nbformat": 3,
 "nbformat_minor": 0,
 "worksheets": [
  {
   "cells": [
    {
     "cell_type": "heading",
     "level": 1,
     "metadata": {},
     "source": [
      "Lewis's Law Plots"
     ]
    },
    {
     "cell_type": "code",
     "collapsed": false,
     "input": [
      "import numpy as np \n",
      "import matplotlib.pyplot as plt\n",
      "ringfiles=[\"cornell-A_ringhist.dat\",\"cornell-B_ringhist.dat\",\"heyde_ringhist.dat\"]\n",
      "areafiles=[\"cornell-A_areahist.dat\",\"cornell-B_areahist.dat\",\"heyde_areahist.dat\"]\n",
      "titles = []\n",
      "for file in ringfiles:\n",
      "    titles.append( file.split('_')[0] )\n",
      " "
     ],
     "language": "python",
     "metadata": {},
     "outputs": [],
     "prompt_number": 1
    },
    {
     "cell_type": "code",
     "collapsed": false,
     "input": [
      "def getData(filename):\n",
      "    \"\"\"\n",
      "    Returns a top level value (e.g. mu2 or area length) and \n",
      "    list of values \n",
      "    \"\"\"\n",
      "    data = []\n",
      "    file = open(filename,\"r\")\n",
      "    value = float(file.readline())\n",
      "    for line in file:\n",
      "        data.append( line.strip('\\n').split()[1] )\n",
      "    file.close()\n",
      "    \n",
      "    return value,data"
     ],
     "language": "python",
     "metadata": {},
     "outputs": [],
     "prompt_number": 2
    },
    {
     "cell_type": "code",
     "collapsed": false,
     "input": [
      "def LewisPlot(ringfile,areafile,title,r_0=3.5):\n",
      "        mu2, ring = getData(ringfile)\n",
      "        area_length, area = getData(areafile)\n",
      "        ring = np.array(ring,dtype=int)\n",
      "        area = np.array(area,dtype=float)\n",
      "        area_ring = (area/ring)\n",
      "        area_ring[np.isnan(area_ring)] = 0 \n",
      "        print ring\n",
      "        totalarea = np.sum(area)\n",
      "        totalring = 0. \n",
      "        ringsize = 4.\n",
      "        for nring in ring:\n",
      "            totalring += ringsize*nring\n",
      "            ringsize +=1\n",
      "        totalring = (totalring/3.)\n",
      "           \n",
      "        x=np.array([4,5,6,7,8,9])\n",
      "        A = np.vstack([x, np.ones(len(x))]).T\n",
      "        m, c = np.linalg.lstsq(A, area_ring[:6])[0]\n",
      "        print m, c\n",
      "    \n",
      "        \n",
      "\n",
      "        Lewis =[]\n",
      "        \n",
      "        \n",
      "        for i in range(4,12): \n",
      "            Lewis.append( (2*totalarea/totalring)*((i-r_0)/(6-r_0)) )\n",
      "        \n",
      "        np.array(Lewis,dtype=float)\n",
      "        print \"Lewis:\"\n",
      "        print Lewis\n",
      "        print \"area: \"\n",
      "        print area \n",
      "          \n",
      "        plt.plot(range(4,12),area_ring,'ro')\n",
      "        plt.plot(6,(2*totalarea/totalring),'ko')\n",
      "        plt.plot(range(4,12),Lewis, 'b')\n",
      "        plt.xlabel('Ring Size $r$')\n",
      "        plt.ylabel(r'Average Area per Ring $\\frac{A_{r}}{<l>^{2}}$')\n",
      "        plt.xlim(3.5,10.5)\n",
      "        plt.legend([title,\"2a\",'Lewis $r_{o}$=%.2f'%r_0],loc=4)\n",
      "        plt.title(title + \" Lewis's Law\")\n",
      "        \n",
      "        #Linear fit \n",
      "        #plt.show()       \n",
      "        plt.savefig(title+\"_lewis.png\",dpi=125)\n",
      "        plt.show()\n",
      "        #plt.clf()\n",
      "        \n",
      "    "
     ],
     "language": "python",
     "metadata": {},
     "outputs": [],
     "prompt_number": 3
    },
    {
     "cell_type": "code",
     "collapsed": false,
     "input": [
      "def ringareahistogram(ringfile,areafile,title):\n",
      "    \"\"\"\n",
      "    Plot axes with shared x axes \n",
      "    \"\"\"\n",
      "    mu2, ring = getData(ringfile)\n",
      "    area_length, area = getData(areafile)\n",
      "    ringstats = np.array(ring,dtype=int)\n",
      "    areastats = np.array(area,dtype=float)\n",
      "    ind = np.arange(8)\n",
      "    width = 0.35\n",
      "\n",
      "    density = np.sum(ringstats)/(3.*area_length)\n",
      "    print \"ringstats: %f \" %(np.sum(ringstats))\n",
      "    print \"area_length: %f \" %(area_length)\n",
      "    print \"density: %f\" %(density)\n",
      "    \n",
      "    f, axarr = plt.subplots(3)\n",
      "    rects1 = axarr[0].bar(ind+(0.35/2),ringstats,0.35,color='r')\n",
      "    axarr[0].set_title(\"Ring Statistics, $\\mu_{2} = $ %.2f\" %(mu2))\n",
      "    axarr[0].set_ylabel('Ring Count')\n",
      "    axarr[0].set_ylim(0,250)\n",
      "    axarr[0].set_xticks(ind+width)\n",
      "    axarr[0].set_xticklabels( ('','','','','','','','') )\n",
      "    \n",
      "    rects2 = axarr[1].bar(ind+(0.35/2),areastats,0.35,color='b')\n",
      "    axarr[1].set_title(r'Area per Ring $\\frac{A}{<l>^{2}} = $ %.2f $\\rho=$%.4f'%(area_length,density))\n",
      "    axarr[1].set_ylabel(r'$\\frac{A}{<l>^{2}}$')\n",
      "    axarr[1].set_ylim(0,600)\n",
      "    axarr[1].set_xticks(ind+width)\n",
      "    axarr[1].set_xticklabels( ('','','','','','','','') )\n",
      "    \n",
      "    areaPerRing = (areastats/ringstats)\n",
      "    areaPerRing[np.isnan(areaPerRing)] = 0 \n",
      "    print \"areaPerRing\"\n",
      "    print areaPerRing\n",
      "    \n",
      "    rects3 = axarr[2].bar(ind+(0.35/2),areaPerRing,0.35,color='b')\n",
      "    axarr[2].set_title(r'Average Area per Ring')\n",
      "    axarr[2].set_ylabel(r'$\\frac{A}{<l>^{2}N_{r}}$')\n",
      "    axarr[2].set_ylim(0,10)\n",
      "    axarr[2].set_xticks(ind+width)\n",
      "    axarr[2].set_xticklabels( ('4','5','6','7','8','9','10','11') )\n",
      "    axarr[2].set_xlabel('Ring Size')\n",
      "\n",
      "    for rect in rects1:\n",
      "        height = rect.get_height()\n",
      "        axarr[0].text(rect.get_x()+rect.get_width()/2., 1.025*height, '%d'%int(height),\n",
      "                    ha='center', va='bottom')\n",
      "\n",
      "    for rect in rects2:\n",
      "        height = rect.get_height()\n",
      "        axarr[1].text(rect.get_x()+rect.get_width()/2., 1.025*height, '%.2f'%float(height),\n",
      "                      ha='center', va='bottom')\n",
      "\n",
      "\n",
      "    for rect in rects3:\n",
      "        height = rect.get_height()\n",
      "        axarr[2].text(rect.get_x()+rect.get_width()/2., 1.025*height, '%.2f'%float(height),\n",
      "                      ha='center', va='bottom')\n",
      "\n",
      "    print title\n",
      "    plt.show()\n",
      "    plt.savefig(title+\"_stats.png\",dpi=125)\n",
      "    \n",
      "        "
     ],
     "language": "python",
     "metadata": {},
     "outputs": [],
     "prompt_number": 9
    },
    {
     "cell_type": "code",
     "collapsed": false,
     "input": [
      "ringareahistogram(ringfiles[2],areafiles[2],titles[2])"
     ],
     "language": "python",
     "metadata": {},
     "outputs": [
      {
       "output_type": "stream",
       "stream": "stdout",
       "text": [
        "ringstats: 290.000000 \n",
        "area_length: 761.648438 \n",
        "density: 0.126918\n",
        "areaPerRing"
       ]
      },
      {
       "output_type": "stream",
       "stream": "stdout",
       "text": [
        "\n",
        "[ 0.940522    1.70049591  2.59145062  3.60813539  4.77843257  6.0265835   0.\n",
        "  0.        ]\n",
        "heyde\n"
       ]
      }
     ],
     "prompt_number": 12
    },
    {
     "cell_type": "code",
     "collapsed": false,
     "input": [
      "#for i in range(len(ringfiles)):\n",
      "LewisPlot(ringfiles[2],areafiles[2],titles[2],r_0=3.75)"
     ],
     "language": "python",
     "metadata": {},
     "outputs": [
      {
       "output_type": "stream",
       "stream": "stdout",
       "text": [
        "[ 11  80 130  46  21   2   0   0]\n",
        "1.01945149293 -3.35216470564\n",
        "Lewis:\n",
        "[0.29316723402617395, 1.4658361701308698, 2.6385051062355656, 3.8111740423402614, 4.9838429784449572, 6.156511914549653, 7.3291808506543488, 8.5018497867590455]\n",
        "area: \n",
        "[  10.345742  136.039673  336.88858   165.974228  100.347084   12.053167\n",
        "    0.          0.      ]\n"
       ]
      },
      {
       "metadata": {},
       "output_type": "display_data",
       "png": "[encoded data removed]",
       "text": [
        "<matplotlib.figure.Figure at 0xb6f26ac>"
       ]
      }
     ],
     "prompt_number": 122
    },
    {
     "cell_type": "heading",
     "level": 2,
     "metadata": {},
     "source": [
      "All Data on a Single Plot"
     ]
    },
    {
     "cell_type": "code",
     "collapsed": false,
     "input": [
      "def LewisPlots(ringfiles,areafiles,titles):\n",
      "    for i in range(len(ringfiles)):\n",
      "        mu2, ring = getData(ringfiles[i])\n",
      "        area_length, area = getData(areafiles[i])\n",
      "        ring = np.array(ring,dtype=int)\n",
      "        area = np.array(area,dtype=float)\n",
      "        area_ring = (area/ring)\n",
      "        area_ring[np.isnan(area_ring)] = 0 \n",
      "        plt.plot(range(4,12),area_ring,'o')\n",
      "    \n",
      "    plt.xlim(3.5,10.5)\n",
      "    plt.xlabel('Ring Size $r$')\n",
      "    plt.ylabel(r'Average Area per Ring $\\frac{A_{r}}{<l>^{2}}$')\n",
      "    plt.title(\"Lewis's Law\")\n",
      "    legend(titles,loc=4)\n",
      "    plt.savefig(\"lewis.png\",dpi=125)\n",
      "    plt.show()\n",
      "    #plt.clf()"
     ],
     "language": "python",
     "metadata": {},
     "outputs": [],
     "prompt_number": 93
    },
    {
     "cell_type": "code",
     "collapsed": false,
     "input": [
      "LewisPlots(ringfiles,areafiles,titles)"
     ],
     "language": "python",
     "metadata": {},
     "outputs": [
      {
       "metadata": {},
       "output_type": "display_data",
       "png": "[encoded data removed]",
       "text": [
        "<matplotlib.figure.Figure at 0xb46688c>"
       ]
      }
     ],
     "prompt_number": 94
    },
    {
     "cell_type": "code",
     "collapsed": false,
     "input": [
      "# Fit a line, ``y = mx + c``, through some noisy data-points:\n",
      "x=np.array([4,5,6,7,8,9])\n",
      "mu2, ring = getData(ringfiles[0])\n",
      "area_length, area = getData(areafiles[0])\n",
      "ring = np.array(ring,dtype=int)\n",
      "area = np.array(area,dtype=float)\n",
      "area_ring = (area/ring)\n",
      "area_ring[np.isnan(area_ring)] = 0 \n",
      "print area_ring\n",
      "print area_ring[:6]\n",
      "\n",
      "A = np.vstack([x, np.ones(len(x))]).T\n",
      "\n",
      "# array([[ 0.,  1.],\n",
      "# [ 1.,  1.],\n",
      "# [ 2.,  1.],\n",
      "# [ 3.,  1.]])\n",
      "\n",
      "m, c = np.linalg.lstsq(A, area_ring[:6])[0]\n",
      "print m, c\n",
      "# 1.0 -0.95\n",
      "\n",
      "# Plot the data along with the fitted line:\n",
      "\n",
      "import matplotlib.pyplot as plt\n",
      "plt.plot(x, area_ring[:7], 'o', label='Original data', markersize=10)\n",
      "plt.plot(x, m*x + c, 'r', label='Fitted line y =%.2fx + %.2f'%(m,c))\n",
      "plt.legend()\n",
      "plt.show()"
     ],
     "language": "python",
     "metadata": {},
     "outputs": [
      {
       "output_type": "stream",
       "stream": "stdout",
       "text": [
        "[ 0.94533256  1.70551811  2.59551034  3.60657395  4.74617141  5.7380405\n",
        "  7.532125    0.        ]\n",
        "[ 0.94533256  1.70551811  2.59551034  3.60657395  4.74617141  5.7380405\n",
        "  7.532125  ]\n",
        "1.07057439886 -3.65555338286\n"
       ]
      },
      {
       "metadata": {},
       "output_type": "display_data",
       "png": "[encoded data removed]",
       "text": [
        "<matplotlib.figure.Figure at 0xb7fb0cc>"
       ]
      }
     ],
     "prompt_number": 56
    },
    {
     "cell_type": "code",
     "collapsed": false,
     "input": [],
     "language": "python",
     "metadata": {},
     "outputs": []
    }
   ],
   "metadata": {}
  }
 ]
}