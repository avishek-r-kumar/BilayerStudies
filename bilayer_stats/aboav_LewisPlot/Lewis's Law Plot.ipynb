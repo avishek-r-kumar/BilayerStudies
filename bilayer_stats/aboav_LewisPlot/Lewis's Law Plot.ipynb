{
 "metadata": {
  "name": ""
 },
 "nbformat": 3,
 "nbformat_minor": 0,
 "worksheets": [
  {
   "cells": [
    {
     "cell_type": "heading",
     "level": 1,
     "metadata": {},
     "source": [
      "Lewis's Law Plots"
     ]
    },
    {
     "cell_type": "code",
     "collapsed": false,
     "input": [
      "import numpy as np \n",
      "import matplotlib.pyplot as plt\n",
      "ringfiles=[\"cornell-A_ringhist.dat\",\"cornell-B_ringhist.dat\",\"heyde_ringhist.dat\"\"432harm_ringhist.dat\",\"432_bilayernetwork_noringscoring_ringhist.dat\",\"test_ringhist.dat\"]\n",
      "areafiles=[\"cornell-A_areahist.dat\",\"cornell-B_areahist.dat\",\"heyde_areahist.dat\",\"836a_areahist.dat\",\"432b_areahist.dat\",\"zach_areahist.dat\",\"berlin-A_areahist.dat\",\"berlin-B_areahist.dat\",\"432harm_areahist.dat\",\"432_bilayernetwork_noringscoring_areahist.dat\",\"test_areahist.dat\"]\n",
      "titles = []\n",
      "for file in ringfiles:\n",
      "    titles.append( file.split('_')[0] )\n",
      " "
     ],
     "language": "python",
     "metadata": {},
     "outputs": [],
     "prompt_number": 1
    },
    {
     "cell_type": "code",
     "collapsed": false,
     "input": [
      "def getData(filename):\n",
      "    \"\"\"\n",
      "    Returns a top level value (e.g. mu2 or area length) and \n",
      "    list of values \n",
      "    \"\"\"\n",
      "    data = []\n",
      "    file = open(filename,\"r\")\n",
      "    value = float(file.readline())\n",
      "    for line in file:\n",
      "        data.append( line.strip('\\n').split()[1] )\n",
      "    file.close()\n",
      "    \n",
      "    return value,data"
     ],
     "language": "python",
     "metadata": {},
     "outputs": [],
     "prompt_number": 2
    },
    {
     "cell_type": "code",
     "collapsed": false,
     "input": [
      "def LewisPlot(ringfile,areafile,title,r_0=3.5):\n",
      "        mu2, ring = getData(ringfile)\n",
      "        area_length, area = getData(areafile)\n",
      "        ring = np.array(ring,dtype=int)\n",
      "        area = np.array(area,dtype=float)\n",
      "        area_ring = (area/ring)\n",
      "        area_ring[np.isnan(area_ring)] = 0 \n",
      "        print ring\n",
      "        totalarea = np.sum(area)\n",
      "        totalring = 0. \n",
      "        ringsize = 4.\n",
      "        for nring in ring:\n",
      "            totalring += ringsize*nring\n",
      "            ringsize +=1\n",
      "        totalring = (totalring/3.)\n",
      "           \n",
      "        x=np.array([4,5,6,7,8,9])\n",
      "        A = np.vstack([x, np.ones(len(x))]).T\n",
      "        m, c = np.linalg.lstsq(A, area_ring[:6])[0]\n",
      "        print m, c\n",
      "    \n",
      "        \n",
      "\n",
      "        Lewis =[]\n",
      "        \n",
      "        \n",
      "        for i in range(4,12): \n",
      "            Lewis.append( (2*totalarea/totalring)*((i-r_0)/(6-r_0)) )\n",
      "        \n",
      "        np.array(Lewis,dtype=float)\n",
      "        print \"Lewis:\"\n",
      "        print Lewis\n",
      "        print \"area: \"\n",
      "        print area \n",
      "          \n",
      "        plt.plot(range(4,12),area_ring,'ro')\n",
      "        plt.plot(6,(2*totalarea/totalring),'ko')\n",
      "        plt.plot(range(4,12),Lewis, 'b')\n",
      "        plt.xlabel('Ring Size $r$')\n",
      "        plt.ylabel(r'Average Area per Ring $\\frac{A_{r}}{<l>^{2}}$')\n",
      "        plt.xlim(3.5,10.5)\n",
      "        plt.legend([title,\"2a\",'Lewis $r_{o}$=%.2f'%r_0],loc=2)\n",
      "        plt.title(title + \" Lewis's Law\")\n",
      "        \n",
      "        #Linear fit \n",
      "        #plt.show()       \n",
      "        plt.savefig(title+\"_lewis.png\",dpi=125)\n",
      "        plt.show()\n",
      "        #plt.clf()\n",
      "        \n",
      "    "
     ],
     "language": "python",
     "metadata": {},
     "outputs": [],
     "prompt_number": 3
    },
    {
     "cell_type": "code",
     "collapsed": false,
     "input": [
      "def ringareahistogram(ringfile,areafile,title):\n",
      "    \"\"\"\n",
      "    Plot axes with shared x axes \n",
      "    \"\"\"\n",
      "    mu2, ring = getData(ringfile)\n",
      "    area_length, area = getData(areafile)\n",
      "    ringstats = np.array(ring,dtype=int)\n",
      "    areastats = np.array(area,dtype=float)\n",
      "    ind = np.arange(8)\n",
      "    width = 0.35\n",
      "\n",
      "  #  density = np.sum(ringstats)/(3.*area_length)\n",
      "    i = 4.\n",
      "    density = 0.\n",
      "    print \"area_length:%f\"%(area_length)\n",
      "    for ring in ringstats:\n",
      "        print \"i:%f \"%i\n",
      "        print \"ring:%d \"%ring\n",
      "        density += ((i*ring)/(3.0) )\n",
      "    #    print \"density:%f\"%(density)\n",
      "        i += 1.0        \n",
      "    \n",
      "    print \"density (before):%f\" %density\n",
      "    density = area_length/density\n",
      "    print \"density:%f\"%(density)\n",
      "    \n",
      "        \n",
      "    f, axarr = plt.subplots(3)\n",
      "    rects1 = axarr[0].bar(ind+(0.35/2),ringstats,0.35,color='r')\n",
      "    axarr[0].set_title(\"Ring Statistics, $\\mu_{2} = $ %.2f\" %(mu2))\n",
      "    axarr[0].set_ylabel('Ring Count')\n",
      "    axarr[0].set_ylim(0,250)\n",
      "    axarr[0].set_xticks(ind+width)\n",
      "    axarr[0].set_xticklabels( ('','','','','','','','') )\n",
      "    \n",
      "    rects2 = axarr[1].bar(ind+(0.35/2),areastats,0.35,color='b')\n",
      "    axarr[1].set_title(r'Area per Ring $\\frac{A}{<l>^{2}} = $ %.2f $\\rho=$%.4f'%(area_length,density))\n",
      "    axarr[1].set_ylabel(r'$\\frac{A}{<l>^{2}}$')\n",
      "    axarr[1].set_ylim(0,600)\n",
      "    axarr[1].set_xticks(ind+width)\n",
      "    axarr[1].set_xticklabels( ('','','','','','','','') )\n",
      "    \n",
      "    areaPerRing = (areastats/ringstats)\n",
      "    areaPerRing[np.isnan(areaPerRing)] = 0 \n",
      "    print \"areaPerRing\"\n",
      "    print areaPerRing\n",
      "    \n",
      "    rects3 = axarr[2].bar(ind+(0.35/2),areaPerRing,0.35,color='b')\n",
      "    axarr[2].set_title(r'Average Area per Ring')\n",
      "    axarr[2].set_ylabel(r'$\\frac{A}{<l>^{2}N_{r}}$')\n",
      "    axarr[2].set_ylim(0,10)\n",
      "    axarr[2].set_xticks(ind+width)\n",
      "    axarr[2].set_xticklabels( ('4','5','6','7','8','9','10','11') )\n",
      "    axarr[2].set_xlabel('Ring Size')\n",
      "\n",
      "    for rect in rects1:\n",
      "        height = rect.get_height()\n",
      "        axarr[0].text(rect.get_x()+rect.get_width()/2., 1.025*height, '%d'%int(height),\n",
      "                    ha='center', va='bottom')\n",
      "\n",
      "    for rect in rects2:\n",
      "        height = rect.get_height()\n",
      "        axarr[1].text(rect.get_x()+rect.get_width()/2., 1.025*height, '%.2f'%float(height),\n",
      "                      ha='center', va='bottom')\n",
      "\n",
      "\n",
      "    for rect in rects3:\n",
      "        height = rect.get_height()\n",
      "        axarr[2].text(rect.get_x()+rect.get_width()/2., 1.025*height, '%.2f'%float(height),\n",
      "                      ha='center', va='bottom')\n",
      "\n",
      "    #print title\n",
      "    #plt.show()\n",
      "    plt.savefig(title+\"_stats.png\",dpi=125)\n",
      "    #plt.clf()\n",
      "        "
     ],
     "language": "python",
     "metadata": {},
     "outputs": [],
     "prompt_number": 4
    },
    {
     "cell_type": "code",
     "collapsed": false,
     "input": [
      "ringareahistogram(ringfiles[-1],areafiles[-1],titles[-1])"
     ],
     "language": "python",
     "metadata": {},
     "outputs": [
      {
       "output_type": "stream",
       "stream": "stdout",
       "text": [
        "area_length:462.434418\n",
        "i:4.000000 \n",
        "ring:4 \n",
        "i:5.000000 \n",
        "ring:71 \n",
        "i:6.000000 \n",
        "ring:79 \n",
        "i:7.000000 \n",
        "ring:46 \n",
        "i:8.000000 \n",
        "ring:15 \n",
        "i:9.000000 \n",
        "ring:1 \n",
        "i:10.000000 \n",
        "ring:0 \n",
        "i:11.000000 \n",
        "ring:0 \n",
        "density (before):432.000000\n",
        "density:1.070450\n",
        "areaPerRing"
       ]
      },
      {
       "output_type": "stream",
       "stream": "stdout",
       "text": [
        "\n",
        "[ 0.69545675  1.41141069  2.18846846  2.69469883  3.76707127  6.091208    0.\n",
        "  0.        ]\n"
       ]
      },
      {
       "output_type": "stream",
       "stream": "stderr",
       "text": [
        "-c:43: RuntimeWarning: invalid value encountered in divide\n"
       ]
      },
      {
       "metadata": {},
       "output_type": "display_data",
       "png": "[encoded data removed]",
       "text": [
        "<matplotlib.figure.Figure at 0xa93736c>"
       ]
      }
     ],
     "prompt_number": 5
    },
    {
     "cell_type": "code",
     "collapsed": false,
     "input": [
      "\n",
      "#for i in range(len(ringfiles)):\n",
      "LewisPlot(ringfiles[-1],areafiles[-1],titles[-1],r_0=3.70)"
     ],
     "language": "python",
     "metadata": {},
     "outputs": [
      {
       "output_type": "stream",
       "stream": "stdout",
       "text": [
        "[ 4 71 79 46 15  1  0  0]\n",
        "0.987199095713 -3.60874179071\n",
        "Lewis:\n",
        "[0.27924783635265688, 1.2100739575281803, 2.1409000787037038, 3.0717261998792269, 4.0025523210547505, 4.933378442230274, 5.8642045634057975, 6.7950306845813211]\n",
        "area: \n",
        "[   2.781827  100.210159  172.889008  123.956146   56.506069    6.091208\n",
        "    0.          0.      ]\n"
       ]
      },
      {
       "output_type": "stream",
       "stream": "stderr",
       "text": [
        "-c:6: RuntimeWarning: invalid value encountered in divide\n"
       ]
      },
      {
       "metadata": {},
       "output_type": "display_data",
       "png": "[encoded data removed]",
       "text": [
        "<matplotlib.figure.Figure at 0xad8912c>"
       ]
      }
     ],
     "prompt_number": 6
    },
    {
     "cell_type": "heading",
     "level": 2,
     "metadata": {},
     "source": [
      "All Data on a Single Plot"
     ]
    },
    {
     "cell_type": "code",
     "collapsed": false,
     "input": [
      "def LewisPlots(ringfiles,areafiles,titles):\n",
      "    for i in range(len(ringfiles)):\n",
      "        mu2, ring = getData(ringfiles[i])\n",
      "        area_length, area = getData(areafiles[i])\n",
      "        ring = np.array(ring,dtype=int)\n",
      "        area = np.array(area,dtype=float)\n",
      "        area_ring = (area/ring)\n",
      "        area_ring[np.isnan(area_ring)] = 0 \n",
      "        plt.plot(range(4,12),area_ring,'o')\n",
      "    \n",
      "    plt.xlim(3.5,10.5)\n",
      "    plt.xlabel('Ring Size $r$')\n",
      "    plt.ylabel(r'Average Area per Ring $\\frac{A_{r}}{<l>^{2}}$')\n",
      "    plt.title(\"Lewis's Law\")\n",
      "    legend(titles,loc=4)\n",
      "    plt.savefig(\"lewis.png\",dpi=125)\n",
      "    plt.show()\n",
      "    #plt.clf()"
     ],
     "language": "python",
     "metadata": {},
     "outputs": [],
     "prompt_number": 7
    },
    {
     "cell_type": "code",
     "collapsed": false,
     "input": [
      "LewisPlots(ringfiles,areafiles,titles)"
     ],
     "language": "python",
     "metadata": {},
     "outputs": [
      {
       "ename": "IOError",
       "evalue": "[Errno 2] No such file or directory: 'zach_ringhist.dat'",
       "output_type": "pyerr",
       "traceback": [
        "\u001b[1;31m---------------------------------------------------------------------------\u001b[0m\n\u001b[1;31mIOError\u001b[0m                                   Traceback (most recent call last)",
        "\u001b[1;32m<ipython-input-8-dfebf204927b>\u001b[0m in \u001b[0;36m<module>\u001b[1;34m()\u001b[0m\n\u001b[1;32m----> 1\u001b[1;33m \u001b[0mLewisPlots\u001b[0m\u001b[1;33m(\u001b[0m\u001b[0mringfiles\u001b[0m\u001b[1;33m,\u001b[0m\u001b[0mareafiles\u001b[0m\u001b[1;33m,\u001b[0m\u001b[0mtitles\u001b[0m\u001b[1;33m)\u001b[0m\u001b[1;33m\u001b[0m\u001b[0m\n\u001b[0m",
        "\u001b[1;32m<ipython-input-7-7133f714c96d>\u001b[0m in \u001b[0;36mLewisPlots\u001b[1;34m(ringfiles, areafiles, titles)\u001b[0m\n\u001b[0;32m      1\u001b[0m \u001b[1;32mdef\u001b[0m \u001b[0mLewisPlots\u001b[0m\u001b[1;33m(\u001b[0m\u001b[0mringfiles\u001b[0m\u001b[1;33m,\u001b[0m\u001b[0mareafiles\u001b[0m\u001b[1;33m,\u001b[0m\u001b[0mtitles\u001b[0m\u001b[1;33m)\u001b[0m\u001b[1;33m:\u001b[0m\u001b[1;33m\u001b[0m\u001b[0m\n\u001b[0;32m      2\u001b[0m     \u001b[1;32mfor\u001b[0m \u001b[0mi\u001b[0m \u001b[1;32min\u001b[0m \u001b[0mrange\u001b[0m\u001b[1;33m(\u001b[0m\u001b[0mlen\u001b[0m\u001b[1;33m(\u001b[0m\u001b[0mringfiles\u001b[0m\u001b[1;33m)\u001b[0m\u001b[1;33m)\u001b[0m\u001b[1;33m:\u001b[0m\u001b[1;33m\u001b[0m\u001b[0m\n\u001b[1;32m----> 3\u001b[1;33m         \u001b[0mmu2\u001b[0m\u001b[1;33m,\u001b[0m \u001b[0mring\u001b[0m \u001b[1;33m=\u001b[0m \u001b[0mgetData\u001b[0m\u001b[1;33m(\u001b[0m\u001b[0mringfiles\u001b[0m\u001b[1;33m[\u001b[0m\u001b[0mi\u001b[0m\u001b[1;33m]\u001b[0m\u001b[1;33m)\u001b[0m\u001b[1;33m\u001b[0m\u001b[0m\n\u001b[0m\u001b[0;32m      4\u001b[0m         \u001b[0marea_length\u001b[0m\u001b[1;33m,\u001b[0m \u001b[0marea\u001b[0m \u001b[1;33m=\u001b[0m \u001b[0mgetData\u001b[0m\u001b[1;33m(\u001b[0m\u001b[0mareafiles\u001b[0m\u001b[1;33m[\u001b[0m\u001b[0mi\u001b[0m\u001b[1;33m]\u001b[0m\u001b[1;33m)\u001b[0m\u001b[1;33m\u001b[0m\u001b[0m\n\u001b[0;32m      5\u001b[0m         \u001b[0mring\u001b[0m \u001b[1;33m=\u001b[0m \u001b[0mnp\u001b[0m\u001b[1;33m.\u001b[0m\u001b[0marray\u001b[0m\u001b[1;33m(\u001b[0m\u001b[0mring\u001b[0m\u001b[1;33m,\u001b[0m\u001b[0mdtype\u001b[0m\u001b[1;33m=\u001b[0m\u001b[0mint\u001b[0m\u001b[1;33m)\u001b[0m\u001b[1;33m\u001b[0m\u001b[0m\n",
        "\u001b[1;32m<ipython-input-2-c9d0640ac0c8>\u001b[0m in \u001b[0;36mgetData\u001b[1;34m(filename)\u001b[0m\n\u001b[0;32m      5\u001b[0m     \"\"\"\n\u001b[0;32m      6\u001b[0m     \u001b[0mdata\u001b[0m \u001b[1;33m=\u001b[0m \u001b[1;33m[\u001b[0m\u001b[1;33m]\u001b[0m\u001b[1;33m\u001b[0m\u001b[0m\n\u001b[1;32m----> 7\u001b[1;33m     \u001b[0mfile\u001b[0m \u001b[1;33m=\u001b[0m \u001b[0mopen\u001b[0m\u001b[1;33m(\u001b[0m\u001b[0mfilename\u001b[0m\u001b[1;33m,\u001b[0m\u001b[1;34m\"r\"\u001b[0m\u001b[1;33m)\u001b[0m\u001b[1;33m\u001b[0m\u001b[0m\n\u001b[0m\u001b[0;32m      8\u001b[0m     \u001b[0mvalue\u001b[0m \u001b[1;33m=\u001b[0m \u001b[0mfloat\u001b[0m\u001b[1;33m(\u001b[0m\u001b[0mfile\u001b[0m\u001b[1;33m.\u001b[0m\u001b[0mreadline\u001b[0m\u001b[1;33m(\u001b[0m\u001b[1;33m)\u001b[0m\u001b[1;33m)\u001b[0m\u001b[1;33m\u001b[0m\u001b[0m\n\u001b[0;32m      9\u001b[0m     \u001b[1;32mfor\u001b[0m \u001b[0mline\u001b[0m \u001b[1;32min\u001b[0m \u001b[0mfile\u001b[0m\u001b[1;33m:\u001b[0m\u001b[1;33m\u001b[0m\u001b[0m\n",
        "\u001b[1;31mIOError\u001b[0m: [Errno 2] No such file or directory: 'zach_ringhist.dat'"
       ]
      },
      {
       "output_type": "stream",
       "stream": "stderr",
       "text": [
        "-c:7: RuntimeWarning: invalid value encountered in divide\n"
       ]
      },
      {
       "metadata": {},
       "output_type": "display_data",
       "png": "[encoded data removed]",
       "text": [
        "<matplotlib.figure.Figure at 0x9ef978c>"
       ]
      }
     ],
     "prompt_number": 8
    },
    {
     "cell_type": "code",
     "collapsed": false,
     "input": [],
     "language": "python",
     "metadata": {},
     "outputs": []
    }
   ],
   "metadata": {}
  }
 ]
}