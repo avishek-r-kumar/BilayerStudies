{
 "metadata": {
  "name": ""
 },
 "nbformat": 3,
 "nbformat_minor": 0,
 "worksheets": [
  {
   "cells": [
    {
     "cell_type": "heading",
     "level": 1,
     "metadata": {},
     "source": [
      "For Plotting the Aboav Function\n"
     ]
    },
    {
     "cell_type": "code",
     "collapsed": false,
     "input": [
      "def PlotAboav(filename,title,mu2,alpha=0.80):\n",
      "        \n",
      "    file = open(filename,\"r\")\n",
      "    ringsize = []\n",
      "    aring = []\n",
      "   \n",
      "    for line in file:\n",
      "        ringsize.append(line.strip('\\n').split()[0])\n",
      "        aring.append(line.strip('\\n').split()[1])\n",
      "    \n",
      "    ringsize = np.array(ringsize,dtype=int)\n",
      "    aring = np.array(aring,dtype=float)\n",
      "   \n",
      "    #print \"ringsize\"\n",
      "    #print ringsize[3:11]\n",
      "    \n",
      "    #acurve = 6*(1-alpha)*(ringsize[3:11]-6)+36+mu2\n",
      "    #print \"acurve\"\n",
      "    #print acurve \n",
      "    \n",
      "    #plt.plot(ringsize[3:11],ringsize[3:11]*aring[3:11],'ro')\n",
      "    print \"ringsize\", ringsize[8::2]\n",
      "    print \"ringsize*aring\", ringsize[8::2]*aring[8::2]\n",
      "    plt.plot(ringsize[8::2],ringsize[8::2]*aring[8::2],'ro')\n",
      "    #plt.plot(float(6.),36.+mu2,'ko')\n",
      "    #plt.plot(ringsize[3:11],acurve,'b-')\n",
      "    plt.xlabel('Ring size,$r$')\n",
      "    plt.ylabel('Number $r m_{r}$')\n",
      "    #plt.xlim(3.5,10.5)\n",
      "    #plt.ylim(20,60)\n",
      "    #print 36+mu2\n",
      "    #plt.legend([title,\"$36+\\mu_{2}$\",r'$\\alpha=$%.2f'%alpha],loc=4) \n",
      "    plt.title(title +' Aboav Function')\n",
      "    plt.savefig(title+'_Aboav.png',dpi=125)\n",
      "    plt.show()\n",
      "    #plt.clf()"
     ],
     "language": "python",
     "metadata": {},
     "outputs": [],
     "prompt_number": 1
    },
    {
     "cell_type": "code",
     "collapsed": false,
     "input": [
      "def getmu2s(mu2files):\n",
      "    mu2s = []\n",
      "    for mu2 in mu2files:\n",
      "        file = open(mu2,\"r\")\n",
      "        mu2s.append( float(file.readline()) )\n",
      "        file.close()\n",
      "    return np.array(mu2s,dtype=float)"
     ],
     "language": "python",
     "metadata": {},
     "outputs": [],
     "prompt_number": 2
    },
    {
     "cell_type": "code",
     "collapsed": false,
     "input": [
      "files=[\"cornell-A_abaov.dat\",\"cornell-B_abaov.dat\",\"heyde_aboav.dat\",\"berlin-A_aboav.dat\",\"berlin-B_aboav.dat\",\"432b-Wilson_aboav.dat\",\"836-Wilson_aboav.dat\",\"cornell-A_wO_aboav.dat\",\"cAO_aboav.dat\"]\n",
      "#files=[\"cornell-A_aboav.dat\"]\n",
      "title = []\n",
      "for file in files:\n",
      "    title.append(file.split('_')[0])\n",
      "mu2files=[\"cornell-A_ringhist.dat\",\"cornell-B_ringhist.dat\",\"heyde_ringhist.dat\",\"berlin-A_ringhist.dat\",\"berlin-B_ringhist.dat\",\"432b-Wilson_ringhist.dat\",\"836-Wilson_ringhist.dat\",\"cornell-A_wO_ringhist.dat\",\"cAO_ringhist.dat\"]\n",
      "mu2 = getmu2s(mu2files)\n",
      "print mu2"
     ],
     "language": "python",
     "metadata": {},
     "outputs": [
      {
       "output_type": "stream",
       "stream": "stdout",
       "text": [
        "[ 0.943567  0.841375  0.93717   0.945361  1.151716  0.935185  0.856459\n",
        "  3.774266  3.774266]\n"
       ]
      }
     ],
     "prompt_number": 3
    },
    {
     "cell_type": "code",
     "collapsed": false,
     "input": [
      "#for i in range(len(files)):\n",
      "PlotAboav(files[-1],\"Cornell-A with Oxygens\",mu2[-1],alpha=0.20)"
     ],
     "language": "python",
     "metadata": {},
     "outputs": [
      {
       "output_type": "stream",
       "stream": "stdout",
       "text": [
        "ringsize [ 8 10 12 14 16 18 20]\n",
        "ringsize*aring [ 116.5       130.99449   147.782796  163.89247   181.120352  201.571434\n",
        "  224.      ]\n"
       ]
      },
      {
       "metadata": {},
       "output_type": "display_data",
       "png": "[encoded data removed]",
       "text": [
        "<matplotlib.figure.Figure at 0x9659bec>"
       ]
      }
     ],
     "prompt_number": 4
    },
    {
     "cell_type": "heading",
     "level": 2,
     "metadata": {},
     "source": [
      "For Plotting All Networks on A Single Graph "
     ]
    },
    {
     "cell_type": "code",
     "collapsed": false,
     "input": [
      "def getAboavData(fname):\n",
      "    file = open(fname,\"r\")\n",
      "    ring = []\n",
      "    area = []\n",
      "    \n",
      "    for line in file: \n",
      "        ring.append(line.strip('\\n').split()[0])\n",
      "        area.append(line.strip('\\n').split()[1])\n",
      "    \n",
      "    file.close()\n",
      "            \n",
      "    return np.array(ring,dtype=int), np.array(area,dtype=float)"
     ],
     "language": "python",
     "metadata": {},
     "outputs": [],
     "prompt_number": 5
    },
    {
     "cell_type": "markdown",
     "metadata": {},
     "source": [
      "Matplot-lib Legend Guide: http://matplotlib.org/users/legend_guide.html"
     ]
    },
    {
     "cell_type": "code",
     "collapsed": false,
     "input": [
      "def plAboavs(files,title):\n",
      "    for file in files[0:5]:\n",
      "        ring, area = getAboavData(file)\n",
      "        plt.plot(ring[3:11],ring[3:11]*area[3:11],'+')\n",
      "    i=0\n",
      "    for file in files[5:]:\n",
      "        ring, area= getAboavData(file)\n",
      "        if(0==i):\n",
      "            plt.plot(ring[3:11],ring[3:11]*area[3:11],'x',linewidth=5,color='red')\n",
      "        else:\n",
      "            plt.plot(ring[3:11],ring[3:11]*area[3:11],'x',linewidth=5)\n",
      "        i+=1\n",
      "    alpha=0.20\n",
      "    mu2=0.935185\n",
      "    acurve = 6*(1-alpha)*(ring[3:11]-6)+36+mu2\n",
      "    plt.plot(ring[3:11],acurve,'b--')\n",
      "    #plt.legend(['cornell-A','cornell-B','heyde'],loc=4)\n",
      "    #plt.legend(title,loc=5)\n",
      "    titles=title\n",
      "    titles.append(\"mu2=0.93,alpha=0.20\")\n",
      "    #plt.legend(title, loc=4,fontsize='small')\n",
      "    plt.ylim(20,60)\n",
      "    plt.xlim(3.5,10.5)\n",
      "    plt.xlabel(\"Ring size, $r$\")\n",
      "    plt.ylabel(\"Number, $rm_{r}$\")\n",
      "    #plt.title(\"Aboav Function\")\n",
      "    plt.savefig(\"aboav.png\",dpi=150)\n",
      "plAboavs(files,title)"
     ],
     "language": "python",
     "metadata": {},
     "outputs": [
      {
       "metadata": {},
       "output_type": "display_data",
       "png": "[encoded data removed]",
       "text": [
        "<matplotlib.figure.Figure at 0xb3c7bec>"
       ]
      }
     ],
     "prompt_number": 6
    },
    {
     "cell_type": "heading",
     "level": 2,
     "metadata": {},
     "source": [
      "Fitting a Line "
     ]
    },
    {
     "cell_type": "code",
     "collapsed": false,
     "input": [
      "x = np.array"
     ],
     "language": "python",
     "metadata": {},
     "outputs": [],
     "prompt_number": 7
    }
   ],
   "metadata": {}
  }
 ]
}