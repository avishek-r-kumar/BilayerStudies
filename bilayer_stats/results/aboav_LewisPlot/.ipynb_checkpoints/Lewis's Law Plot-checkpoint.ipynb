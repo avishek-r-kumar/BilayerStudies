{
 "metadata": {
  "name": ""
 },
 "nbformat": 3,
 "nbformat_minor": 0,
 "worksheets": [
  {
   "cells": [
    {
     "cell_type": "heading",
     "level": 1,
     "metadata": {},
     "source": [
      "Lewis's Law Plots"
     ]
    },
    {
     "cell_type": "code",
     "collapsed": false,
     "input": [
      "import numpy as np \n",
      "import matplotlib.pyplot as plt\n",
      "ringfiles=[\"cornell-A_ringhist.dat\",\"cornell-B_ringhist.dat\",\"heyde_ringhist.dat\",\"berlin-A_ringhist.dat\",\"berlin-B_ringhist.dat\",\"432b-Wilson_ringhist.dat\",\"836-Wilson_ringhist.dat\",\"cornell-A_wO_ringhist.dat\",\"cAO_ringhist.dat\"]\n",
      "areafiles=[\"cornell-A_areahist.dat\",\"cornell-B_areahist.dat\",\"heyde_areahist.dat\",\"berlin-A_areahist.dat\",\"berlin-B_areahist.dat\",\"432b-Wilson_areahist.dat\",\"836-Wilson_areahist.dat\",\"cornell-A_wO_areahist.dat\",\"cAO_areahist.dat\"]\n",
      "titles = []\n",
      "for file in ringfiles:\n",
      "    titles.append( file.split('_')[0] )\n",
      " "
     ],
     "language": "python",
     "metadata": {},
     "outputs": [],
     "prompt_number": 1
    },
    {
     "cell_type": "code",
     "collapsed": false,
     "input": [
      "def getData(filename):\n",
      "    \"\"\"\n",
      "    Returns a top level value (e.g. mu2 or area length) and \n",
      "    list of values \n",
      "    \"\"\"\n",
      "    data = []\n",
      "    file = open(filename,\"r\")\n",
      "    value = float(file.readline())\n",
      "    for line in file:\n",
      "        data.append( line.strip('\\n').split()[1] )\n",
      "    file.close()\n",
      "    \n",
      "    return value,data"
     ],
     "language": "python",
     "metadata": {},
     "outputs": [],
     "prompt_number": 2
    },
    {
     "cell_type": "code",
     "collapsed": false,
     "input": [
      "def LewisPlot(ringfile,areafile,title,r_0=3.5):\n",
      "        mu2, ring = getData(ringfile)\n",
      "        area_length, area = getData(areafile)\n",
      "        ring = np.array(ring,dtype=int)\n",
      "        area = np.array(area,dtype=float)\n",
      "        area_ring = (area/ring)\n",
      "        area_ring[np.isnan(area_ring)] = 0 \n",
      "        print ring\n",
      "        totalarea = np.sum(area)\n",
      "        totalring = 0. \n",
      "        ringsize = 4.\n",
      "        for nring in ring:\n",
      "            totalring += ringsize*nring\n",
      "            ringsize +=1\n",
      "        totalring = (totalring/3.)\n",
      "           \n",
      "        Lewis =[]\n",
      "        \n",
      "        \n",
      "        for i in range(4,12): \n",
      "            Lewis.append( (2*totalarea/totalring)*((i-r_0)/(6-r_0)) )\n",
      "        \n",
      "        np.array(Lewis,dtype=float)\n",
      "        print \"Lewis:\"\n",
      "        print Lewis\n",
      "        print \"area: \"\n",
      "        print area \n",
      "          \n",
      "        plt.plot(range(len(area_ring),area_ring,'ro')   \n",
      "        #plt.plot(range(4,12),area_ring,'ro')\n",
      "        #plt.plot(6,(2*totalarea/totalring),'ko')\n",
      "        #plt.plot(range(4,12),Lewis, 'b')\n",
      "        plt.xlabel('Ring Size $r$')\n",
      "        plt.ylabel(r'Average Area per Ring $\\frac{A_{r}}{<l>^{2}}$')\n",
      "        #plt.xlim(3.5,10.5)\n",
      "        #plt.legend([title,\"2a\",'Lewis $r_{o}$=%.2f'%r_0],loc=2)\n",
      "        plt.title(title + \" Lewis's Law\")\n",
      "        \n",
      "        #Linear fit \n",
      "        #plt.show()       \n",
      "        plt.savefig(title+\"_lewis.png\",dpi=125)\n",
      "        plt.show()\n",
      "        #plt.clf()\n",
      "        \n",
      "    "
     ],
     "language": "python",
     "metadata": {},
     "outputs": [
      {
       "ename": "SyntaxError",
       "evalue": "invalid syntax (<ipython-input-3-e7fd4a4f3aeb>, line 33)",
       "output_type": "pyerr",
       "traceback": [
        "\u001b[1;36m  File \u001b[1;32m\"<ipython-input-3-e7fd4a4f3aeb>\"\u001b[1;36m, line \u001b[1;32m33\u001b[0m\n\u001b[1;33m    plt.xlabel('Ring Size $r$')\u001b[0m\n\u001b[1;37m      ^\u001b[0m\n\u001b[1;31mSyntaxError\u001b[0m\u001b[1;31m:\u001b[0m invalid syntax\n"
       ]
      }
     ],
     "prompt_number": 3
    },
    {
     "cell_type": "code",
     "collapsed": false,
     "input": [
      "def ringareahistogram(ringfile,areafile,title):\n",
      "    \"\"\"\n",
      "    Plot axes with shared x axes \n",
      "    \"\"\"\n",
      "    mu2, ring = getData(ringfile)\n",
      "    area_length, area = getData(areafile)\n",
      "    ringstats = np.array(ring,dtype=int)\n",
      "    areastats = np.array(area,dtype=float)\n",
      "    ind = np.arange(8)\n",
      "    width = 0.35\n",
      "\n",
      "  #  density = np.sum(ringstats)/(3.*area_length)\n",
      "    i = 4.\n",
      "    density = 0.\n",
      "    print \"area_length:%f\"%(area_length)\n",
      "    for ring in ringstats:\n",
      "        print \"i:%f \"%i\n",
      "        print \"ring:%d \"%ring\n",
      "        density += ((i*ring)/(3.0) )\n",
      "    #    print \"density:%f\"%(density)\n",
      "        i += 1.0        \n",
      "    \n",
      "    print \"density (before):%f\" %density\n",
      "    density = area_length/density\n",
      "    print \"density:%f\"%(density)\n",
      "    \n",
      "        \n",
      "    f, axarr = plt.subplots(3)\n",
      "    rects1 = axarr[0].bar(ind+(0.35/2),ringstats,0.35,color='r')\n",
      "    axarr[0].set_title(\"Ring Statistics, $\\mu_{2} = $ %.2f\" %(mu2))\n",
      "    axarr[0].set_ylabel('Ring Count')\n",
      "    axarr[0].set_ylim(0,250)\n",
      "    axarr[0].set_xticks(ind+width)\n",
      "    axarr[0].set_xticklabels( ('','','','','','','','') )\n",
      "    \n",
      "    rects2 = axarr[1].bar(ind+(0.35/2),areastats,0.35,color='b')\n",
      "    axarr[1].set_title(r'Area per Ring $\\frac{A}{<l>^{2}} = $ %.2f $\\rho=$%.4f'%(area_length,density))\n",
      "    axarr[1].set_ylabel(r'$\\frac{A}{<l>^{2}}$')\n",
      "    axarr[1].set_ylim(0,600)\n",
      "    axarr[1].set_xticks(ind+width)\n",
      "    axarr[1].set_xticklabels( ('','','','','','','','') )\n",
      "    \n",
      "    areaPerRing = (areastats/ringstats)\n",
      "    areaPerRing[np.isnan(areaPerRing)] = 0 \n",
      "    print \"areaPerRing\"\n",
      "    print areaPerRing\n",
      "    \n",
      "    rects3 = axarr[2].bar(ind+(0.35/2),areaPerRing,0.35,color='b')\n",
      "    axarr[2].set_title(r'Average Area per Ring')\n",
      "    axarr[2].set_ylabel(r'$\\frac{A}{<l>^{2}N_{r}}$')\n",
      "    axarr[2].set_ylim(0,10)\n",
      "    axarr[2].set_xticks(ind+width)\n",
      "    axarr[2].set_xticklabels( ('4','5','6','7','8','9','10','11') )\n",
      "    axarr[2].set_xlabel('Ring Size')\n",
      "\n",
      "    for rect in rects1:\n",
      "        height = rect.get_height()\n",
      "        axarr[0].text(rect.get_x()+rect.get_width()/2., 1.025*height, '%d'%int(height),\n",
      "                    ha='center', va='bottom')\n",
      "\n",
      "    for rect in rects2:\n",
      "        height = rect.get_height()\n",
      "        axarr[1].text(rect.get_x()+rect.get_width()/2., 1.025*height, '%.2f'%float(height),\n",
      "                      ha='center', va='bottom')\n",
      "\n",
      "\n",
      "    for rect in rects3:\n",
      "        height = rect.get_height()\n",
      "        axarr[2].text(rect.get_x()+rect.get_width()/2., 1.025*height, '%.2f'%float(height),\n",
      "                      ha='center', va='bottom')\n",
      "\n",
      "    #print title\n",
      "    #plt.show()\n",
      "    plt.savefig(title+\"_stats.png\",dpi=125)\n",
      "    #plt.clf()\n",
      "        "
     ],
     "language": "python",
     "metadata": {},
     "outputs": [],
     "prompt_number": 4
    },
    {
     "cell_type": "code",
     "collapsed": false,
     "input": [
      "def ringareahistogram1(ringfile,areafile,title):\n",
      "    \"\"\"\n",
      "    Plot axes with shared x axes \n",
      "    \"\"\"\n",
      "    mu2, ring = getData(ringfile)\n",
      "    area_length, area = getData(areafile)\n",
      "    ringstats = np.array(ring,dtype=int)\n",
      "    areastats = np.array(area,dtype=float)\n",
      "    ind = np.arange(8)\n",
      "    width = 0.35\n",
      "\n",
      "  #  density = np.sum(ringstats)/(3.*area_length)\n",
      "    i = 8.\n",
      "    density = 0.\n",
      "    print \"area_length:%f\"%(area_length)\n",
      "    for ring in ringstats:\n",
      "        print \"i:%f \"%i\n",
      "        print \"ring:%d \"%ring\n",
      "        density += ((i*ring)/(3.0) )\n",
      "    #    print \"density:%f\"%(density)\n",
      "        i += 2.0        \n",
      "    \n",
      "    print \"density (before):%f\" %density\n",
      "    density = area_length/density\n",
      "    print \"density:%f\"%(density)\n",
      "    \n",
      "        \n",
      "    f, axarr = plt.subplots(3)\n",
      "    rects1 = axarr[0].bar(ind+(0.35/2),ringstats,0.35,color='r')\n",
      "    axarr[0].set_title(\"Ring Statistics, $\\mu_{2} = $ %.2f\" %(mu2))\n",
      "    axarr[0].set_ylabel('Ring Count')\n",
      "    axarr[0].set_ylim(0,250)\n",
      "    axarr[0].set_xticks(ind+width)\n",
      "    axarr[0].set_xticklabels( ('','','','','','','','') )\n",
      "    \n",
      "    rects2 = axarr[1].bar(ind+(0.35/2),areastats,0.35,color='b')\n",
      "    axarr[1].set_title(r'Area per Ring $\\frac{A}{<l>^{2}} = $ %.2f $\\rho=$%.4f'%(area_length,density))\n",
      "    axarr[1].set_ylabel(r'$\\frac{A}{<l>^{2}}$')\n",
      "    axarr[1].set_ylim(0,2400)\n",
      "    axarr[1].set_xticks(ind+width)\n",
      "    axarr[1].set_xticklabels( ('','','','','','','','') )\n",
      "    \n",
      "    areaPerRing = (areastats/ringstats)\n",
      "    areaPerRing[np.isnan(areaPerRing)] = 0 \n",
      "    print \"areaPerRing\"\n",
      "    print areaPerRing\n",
      "    \n",
      "    rects3 = axarr[2].bar(ind+(0.35/2),areaPerRing,0.35,color='b')\n",
      "    axarr[2].set_title(r'Average Area per Ring')\n",
      "    axarr[2].set_ylabel(r'$\\frac{A}{<l>^{2}N_{r}}$')\n",
      "    axarr[2].set_ylim(0,40)\n",
      "    axarr[2].set_xticks(ind+width)\n",
      "    axarr[2].set_xticklabels( ('8','10','12','14','16','18','20','22') )\n",
      "    axarr[2].set_xlabel('Ring Size')\n",
      "\n",
      "    for rect in rects1:\n",
      "        height = rect.get_height()\n",
      "        axarr[0].text(rect.get_x()+rect.get_width()/2., 1.025*height, '%d'%int(height),\n",
      "                    ha='center', va='bottom')\n",
      "\n",
      "    for rect in rects2:\n",
      "        height = rect.get_height()\n",
      "        axarr[1].text(rect.get_x()+rect.get_width()/2., 1.025*height, '%.2f'%float(height),\n",
      "                      ha='center', va='bottom')\n",
      "\n",
      "\n",
      "    for rect in rects3:\n",
      "        height = rect.get_height()\n",
      "        axarr[2].text(rect.get_x()+rect.get_width()/2., 1.025*height, '%.2f'%float(height),\n",
      "                      ha='center', va='bottom')\n",
      "\n",
      "    #print title\n",
      "    #plt.show()\n",
      "    plt.savefig(title+\"_stats.png\",dpi=125)\n",
      "    #plt.clf()"
     ],
     "language": "python",
     "metadata": {},
     "outputs": [],
     "prompt_number": 5
    },
    {
     "cell_type": "code",
     "collapsed": false,
     "input": [
      "ringareahistogram1(ringfiles[-1],areafiles[-1],titles[-1])"
     ],
     "language": "python",
     "metadata": {},
     "outputs": [
      {
       "output_type": "stream",
       "stream": "stdout",
       "text": [
        "area_length:4596.107910\n",
        "i:8.000000 \n",
        "ring:16 \n",
        "i:10.000000 \n",
        "ring:121 \n",
        "i:12.000000 \n",
        "ring:186 \n",
        "i:14.000000 \n",
        "ring:93 \n",
        "i:16.000000 \n",
        "ring:22 \n",
        "i:18.000000 \n",
        "ring:4 \n",
        "i:20.000000 \n",
        "ring:1 \n",
        "i:22.000000 \n",
        "ring:0 \n",
        "density (before):1772.000000\n",
        "density:2.593740\n",
        "areaPerRing"
       ]
      },
      {
       "output_type": "stream",
       "stream": "stdout",
       "text": [
        "\n",
        "[  4.6459055    7.14868265  10.15466374  13.62858467  17.61776318\n",
        "  21.35196675  27.558281     0.        ]\n"
       ]
      },
      {
       "output_type": "stream",
       "stream": "stderr",
       "text": [
        "-c:43: RuntimeWarning: invalid value encountered in divide\n"
       ]
      },
      {
       "metadata": {},
       "output_type": "display_data",
       "png": "[encoded data removed]",
       "text": [
        "<matplotlib.figure.Figure at 0xa9cabcc>"
       ]
      }
     ],
     "prompt_number": 6
    },
    {
     "cell_type": "code",
     "collapsed": false,
     "input": [
      "LewisPlot(ringfiles[-1],areafiles[-1],titles[-1],r_0=3.610)"
     ],
     "language": "python",
     "metadata": {},
     "outputs": [
      {
       "ename": "ValueError",
       "evalue": "x and y must have same first dimension",
       "output_type": "pyerr",
       "traceback": [
        "\u001b[1;31m---------------------------------------------------------------------------\u001b[0m\n\u001b[1;31mValueError\u001b[0m                                Traceback (most recent call last)",
        "\u001b[1;32m<ipython-input-11-c83be073adf1>\u001b[0m in \u001b[0;36m<module>\u001b[1;34m()\u001b[0m\n\u001b[1;32m----> 1\u001b[1;33m \u001b[0mLewisPlot\u001b[0m\u001b[1;33m(\u001b[0m\u001b[0mringfiles\u001b[0m\u001b[1;33m[\u001b[0m\u001b[1;33m-\u001b[0m\u001b[1;36m1\u001b[0m\u001b[1;33m]\u001b[0m\u001b[1;33m,\u001b[0m\u001b[0mareafiles\u001b[0m\u001b[1;33m[\u001b[0m\u001b[1;33m-\u001b[0m\u001b[1;36m1\u001b[0m\u001b[1;33m]\u001b[0m\u001b[1;33m,\u001b[0m\u001b[0mtitles\u001b[0m\u001b[1;33m[\u001b[0m\u001b[1;33m-\u001b[0m\u001b[1;36m1\u001b[0m\u001b[1;33m]\u001b[0m\u001b[1;33m,\u001b[0m\u001b[0mr_0\u001b[0m\u001b[1;33m=\u001b[0m\u001b[1;36m3.610\u001b[0m\u001b[1;33m)\u001b[0m\u001b[1;33m\u001b[0m\u001b[0m\n\u001b[0m",
        "\u001b[1;32m<ipython-input-8-c6a882917e6d>\u001b[0m in \u001b[0;36mLewisPlot\u001b[1;34m(ringfile, areafile, title, r_0)\u001b[0m\n\u001b[0;32m     34\u001b[0m         \u001b[1;32mprint\u001b[0m \u001b[0marea\u001b[0m\u001b[1;33m\u001b[0m\u001b[0m\n\u001b[0;32m     35\u001b[0m \u001b[1;33m\u001b[0m\u001b[0m\n\u001b[1;32m---> 36\u001b[1;33m         \u001b[0mplt\u001b[0m\u001b[1;33m.\u001b[0m\u001b[0mplot\u001b[0m\u001b[1;33m(\u001b[0m\u001b[0mrange\u001b[0m\u001b[1;33m(\u001b[0m\u001b[1;36m8\u001b[0m\u001b[1;33m,\u001b[0m\u001b[1;36m22\u001b[0m\u001b[1;33m)\u001b[0m\u001b[1;33m,\u001b[0m\u001b[0marea_ring\u001b[0m\u001b[1;33m,\u001b[0m\u001b[1;34m'ro'\u001b[0m\u001b[1;33m)\u001b[0m\u001b[1;33m\u001b[0m\u001b[0m\n\u001b[0m\u001b[0;32m     37\u001b[0m         \u001b[1;31m#plt.plot(range(4,12),area_ring,'ro')\u001b[0m\u001b[1;33m\u001b[0m\u001b[1;33m\u001b[0m\u001b[0m\n\u001b[0;32m     38\u001b[0m         \u001b[1;31m#plt.plot(6,(2*totalarea/totalring),'ko')\u001b[0m\u001b[1;33m\u001b[0m\u001b[1;33m\u001b[0m\u001b[0m\n",
        "\u001b[1;32m/usr/lib/pymodules/python2.7/matplotlib/pyplot.pyc\u001b[0m in \u001b[0;36mplot\u001b[1;34m(*args, **kwargs)\u001b[0m\n\u001b[0;32m   2830\u001b[0m         \u001b[0max\u001b[0m\u001b[1;33m.\u001b[0m\u001b[0mhold\u001b[0m\u001b[1;33m(\u001b[0m\u001b[0mhold\u001b[0m\u001b[1;33m)\u001b[0m\u001b[1;33m\u001b[0m\u001b[0m\n\u001b[0;32m   2831\u001b[0m     \u001b[1;32mtry\u001b[0m\u001b[1;33m:\u001b[0m\u001b[1;33m\u001b[0m\u001b[0m\n\u001b[1;32m-> 2832\u001b[1;33m         \u001b[0mret\u001b[0m \u001b[1;33m=\u001b[0m \u001b[0max\u001b[0m\u001b[1;33m.\u001b[0m\u001b[0mplot\u001b[0m\u001b[1;33m(\u001b[0m\u001b[1;33m*\u001b[0m\u001b[0margs\u001b[0m\u001b[1;33m,\u001b[0m \u001b[1;33m**\u001b[0m\u001b[0mkwargs\u001b[0m\u001b[1;33m)\u001b[0m\u001b[1;33m\u001b[0m\u001b[0m\n\u001b[0m\u001b[0;32m   2833\u001b[0m         \u001b[0mdraw_if_interactive\u001b[0m\u001b[1;33m(\u001b[0m\u001b[1;33m)\u001b[0m\u001b[1;33m\u001b[0m\u001b[0m\n\u001b[0;32m   2834\u001b[0m     \u001b[1;32mfinally\u001b[0m\u001b[1;33m:\u001b[0m\u001b[1;33m\u001b[0m\u001b[0m\n",
        "\u001b[1;32m/usr/lib/pymodules/python2.7/matplotlib/axes.pyc\u001b[0m in \u001b[0;36mplot\u001b[1;34m(self, *args, **kwargs)\u001b[0m\n\u001b[0;32m   3994\u001b[0m         \u001b[0mlines\u001b[0m \u001b[1;33m=\u001b[0m \u001b[1;33m[\u001b[0m\u001b[1;33m]\u001b[0m\u001b[1;33m\u001b[0m\u001b[0m\n\u001b[0;32m   3995\u001b[0m \u001b[1;33m\u001b[0m\u001b[0m\n\u001b[1;32m-> 3996\u001b[1;33m         \u001b[1;32mfor\u001b[0m \u001b[0mline\u001b[0m \u001b[1;32min\u001b[0m \u001b[0mself\u001b[0m\u001b[1;33m.\u001b[0m\u001b[0m_get_lines\u001b[0m\u001b[1;33m(\u001b[0m\u001b[1;33m*\u001b[0m\u001b[0margs\u001b[0m\u001b[1;33m,\u001b[0m \u001b[1;33m**\u001b[0m\u001b[0mkwargs\u001b[0m\u001b[1;33m)\u001b[0m\u001b[1;33m:\u001b[0m\u001b[1;33m\u001b[0m\u001b[0m\n\u001b[0m\u001b[0;32m   3997\u001b[0m             \u001b[0mself\u001b[0m\u001b[1;33m.\u001b[0m\u001b[0madd_line\u001b[0m\u001b[1;33m(\u001b[0m\u001b[0mline\u001b[0m\u001b[1;33m)\u001b[0m\u001b[1;33m\u001b[0m\u001b[0m\n\u001b[0;32m   3998\u001b[0m             \u001b[0mlines\u001b[0m\u001b[1;33m.\u001b[0m\u001b[0mappend\u001b[0m\u001b[1;33m(\u001b[0m\u001b[0mline\u001b[0m\u001b[1;33m)\u001b[0m\u001b[1;33m\u001b[0m\u001b[0m\n",
        "\u001b[1;32m/usr/lib/pymodules/python2.7/matplotlib/axes.pyc\u001b[0m in \u001b[0;36m_grab_next_args\u001b[1;34m(self, *args, **kwargs)\u001b[0m\n\u001b[0;32m    328\u001b[0m                 \u001b[1;32mreturn\u001b[0m\u001b[1;33m\u001b[0m\u001b[0m\n\u001b[0;32m    329\u001b[0m             \u001b[1;32mif\u001b[0m \u001b[0mlen\u001b[0m\u001b[1;33m(\u001b[0m\u001b[0mremaining\u001b[0m\u001b[1;33m)\u001b[0m \u001b[1;33m<=\u001b[0m \u001b[1;36m3\u001b[0m\u001b[1;33m:\u001b[0m\u001b[1;33m\u001b[0m\u001b[0m\n\u001b[1;32m--> 330\u001b[1;33m                 \u001b[1;32mfor\u001b[0m \u001b[0mseg\u001b[0m \u001b[1;32min\u001b[0m \u001b[0mself\u001b[0m\u001b[1;33m.\u001b[0m\u001b[0m_plot_args\u001b[0m\u001b[1;33m(\u001b[0m\u001b[0mremaining\u001b[0m\u001b[1;33m,\u001b[0m \u001b[0mkwargs\u001b[0m\u001b[1;33m)\u001b[0m\u001b[1;33m:\u001b[0m\u001b[1;33m\u001b[0m\u001b[0m\n\u001b[0m\u001b[0;32m    331\u001b[0m                     \u001b[1;32myield\u001b[0m \u001b[0mseg\u001b[0m\u001b[1;33m\u001b[0m\u001b[0m\n\u001b[0;32m    332\u001b[0m                 \u001b[1;32mreturn\u001b[0m\u001b[1;33m\u001b[0m\u001b[0m\n",
        "\u001b[1;32m/usr/lib/pymodules/python2.7/matplotlib/axes.pyc\u001b[0m in \u001b[0;36m_plot_args\u001b[1;34m(self, tup, kwargs)\u001b[0m\n\u001b[0;32m    306\u001b[0m             \u001b[0mx\u001b[0m \u001b[1;33m=\u001b[0m \u001b[0mnp\u001b[0m\u001b[1;33m.\u001b[0m\u001b[0marange\u001b[0m\u001b[1;33m(\u001b[0m\u001b[0my\u001b[0m\u001b[1;33m.\u001b[0m\u001b[0mshape\u001b[0m\u001b[1;33m[\u001b[0m\u001b[1;36m0\u001b[0m\u001b[1;33m]\u001b[0m\u001b[1;33m,\u001b[0m \u001b[0mdtype\u001b[0m\u001b[1;33m=\u001b[0m\u001b[0mfloat\u001b[0m\u001b[1;33m)\u001b[0m\u001b[1;33m\u001b[0m\u001b[0m\n\u001b[0;32m    307\u001b[0m \u001b[1;33m\u001b[0m\u001b[0m\n\u001b[1;32m--> 308\u001b[1;33m         \u001b[0mx\u001b[0m\u001b[1;33m,\u001b[0m \u001b[0my\u001b[0m \u001b[1;33m=\u001b[0m \u001b[0mself\u001b[0m\u001b[1;33m.\u001b[0m\u001b[0m_xy_from_xy\u001b[0m\u001b[1;33m(\u001b[0m\u001b[0mx\u001b[0m\u001b[1;33m,\u001b[0m \u001b[0my\u001b[0m\u001b[1;33m)\u001b[0m\u001b[1;33m\u001b[0m\u001b[0m\n\u001b[0m\u001b[0;32m    309\u001b[0m \u001b[1;33m\u001b[0m\u001b[0m\n\u001b[0;32m    310\u001b[0m         \u001b[1;32mif\u001b[0m \u001b[0mself\u001b[0m\u001b[1;33m.\u001b[0m\u001b[0mcommand\u001b[0m \u001b[1;33m==\u001b[0m \u001b[1;34m'plot'\u001b[0m\u001b[1;33m:\u001b[0m\u001b[1;33m\u001b[0m\u001b[0m\n",
        "\u001b[1;32m/usr/lib/pymodules/python2.7/matplotlib/axes.pyc\u001b[0m in \u001b[0;36m_xy_from_xy\u001b[1;34m(self, x, y)\u001b[0m\n\u001b[0;32m    246\u001b[0m         \u001b[0my\u001b[0m \u001b[1;33m=\u001b[0m \u001b[0mnp\u001b[0m\u001b[1;33m.\u001b[0m\u001b[0matleast_1d\u001b[0m\u001b[1;33m(\u001b[0m\u001b[0my\u001b[0m\u001b[1;33m)\u001b[0m\u001b[1;33m\u001b[0m\u001b[0m\n\u001b[0;32m    247\u001b[0m         \u001b[1;32mif\u001b[0m \u001b[0mx\u001b[0m\u001b[1;33m.\u001b[0m\u001b[0mshape\u001b[0m\u001b[1;33m[\u001b[0m\u001b[1;36m0\u001b[0m\u001b[1;33m]\u001b[0m \u001b[1;33m!=\u001b[0m \u001b[0my\u001b[0m\u001b[1;33m.\u001b[0m\u001b[0mshape\u001b[0m\u001b[1;33m[\u001b[0m\u001b[1;36m0\u001b[0m\u001b[1;33m]\u001b[0m\u001b[1;33m:\u001b[0m\u001b[1;33m\u001b[0m\u001b[0m\n\u001b[1;32m--> 248\u001b[1;33m             \u001b[1;32mraise\u001b[0m \u001b[0mValueError\u001b[0m\u001b[1;33m(\u001b[0m\u001b[1;34m\"x and y must have same first dimension\"\u001b[0m\u001b[1;33m)\u001b[0m\u001b[1;33m\u001b[0m\u001b[0m\n\u001b[0m\u001b[0;32m    249\u001b[0m         \u001b[1;32mif\u001b[0m \u001b[0mx\u001b[0m\u001b[1;33m.\u001b[0m\u001b[0mndim\u001b[0m \u001b[1;33m>\u001b[0m \u001b[1;36m2\u001b[0m \u001b[1;32mor\u001b[0m \u001b[0my\u001b[0m\u001b[1;33m.\u001b[0m\u001b[0mndim\u001b[0m \u001b[1;33m>\u001b[0m \u001b[1;36m2\u001b[0m\u001b[1;33m:\u001b[0m\u001b[1;33m\u001b[0m\u001b[0m\n\u001b[0;32m    250\u001b[0m             \u001b[1;32mraise\u001b[0m \u001b[0mValueError\u001b[0m\u001b[1;33m(\u001b[0m\u001b[1;34m\"x and y can be no greater than 2-D\"\u001b[0m\u001b[1;33m)\u001b[0m\u001b[1;33m\u001b[0m\u001b[0m\n",
        "\u001b[1;31mValueError\u001b[0m: x and y must have same first dimension"
       ]
      },
      {
       "output_type": "stream",
       "stream": "stdout",
       "text": [
        "[  0   0   0   0  16   0 121   0 186   0  93   0  22   0   4   0   1   0]\n",
        "0.398220471429 -1.81411548095\n",
        "Lewis:\n",
        "[0.8464926585707947, 3.016986654906165, 5.1874806512415352, 7.3579746475769054, 9.5284686439122765, 11.698962640247647, 13.869456636583017, 16.039950632918387]\n",
        "area: \n",
        "[    0.           0.           0.           0.          74.334488     0.\n",
        "   864.990601     0.        1888.767456     0.        1267.458374     0.\n",
        "   387.59079      0.          85.407867     0.          27.558281     0.      ]\n"
       ]
      },
      {
       "metadata": {},
       "output_type": "display_data",
       "png": "[encoded data removed]",
       "text": [
        "<matplotlib.figure.Figure at 0x98bc40c>"
       ]
      }
     ],
     "prompt_number": 11
    },
    {
     "cell_type": "heading",
     "level": 2,
     "metadata": {},
     "source": [
      "All Data on a Single Plot"
     ]
    },
    {
     "cell_type": "code",
     "collapsed": false,
     "input": [
      "def LewisPlots(ringfiles,areafiles,titles):\n",
      "    for i in range(len(ringfiles)-2):\n",
      "        mu2, ring = getData(ringfiles[i])\n",
      "        area_length, area = getData(areafiles[i])\n",
      "        ring = np.array(ring,dtype=int)\n",
      "        area = np.array(area,dtype=float)\n",
      "        area_ring = (area/ring)\n",
      "        area_ring[np.isnan(area_ring)] = 0 \n",
      "        plt.plot(range(4,12),area_ring,'+')\n",
      "    \n",
      "    for i in [int(5),int(6)]:\n",
      "        mu2, ring = getData(ringfiles[i])\n",
      "        area_length, area = getData(areafiles[i])\n",
      "        ring = np.array(ring,dtype=int)\n",
      "        area = np.array(area,dtype=float)\n",
      "        area_ring = (area/ring)\n",
      "        area_ring[np.isnan(area_ring)] = 0 \n",
      "        plt.plot(range(4,12),area_ring,'x')\n",
      "    \n",
      "    x = np.array(range(4,11),dtype=float)\n",
      "    y = (x)/(4*np.tan(np.pi/x)\n",
      "    plt.plot(x,y)\n",
      "    plt.xlim(3.7,10.3)\n",
      "    plt.xlabel('Ring size $r$')\n",
      "    plt.ylabel(r'Average area per ring')\n",
      "    plt.title(\"Lewis's Law\")\n",
      "    legend(titles,loc=4,fontsize='small')\n",
      "    plt.savefig(\"lewis.png\",dpi=125)\n",
      "    #plt.show()\n",
      "    #plt.clf()\n",
      "LewisPlots(ringfiles,areafiles,titles)"
     ],
     "language": "python",
     "metadata": {},
     "outputs": [
      {
       "ename": "SyntaxError",
       "evalue": "invalid syntax (<ipython-input-7-2926b99ad89d>, line 22)",
       "output_type": "pyerr",
       "traceback": [
        "\u001b[1;36m  File \u001b[1;32m\"<ipython-input-7-2926b99ad89d>\"\u001b[1;36m, line \u001b[1;32m22\u001b[0m\n\u001b[1;33m    plt.plot(x,y)\u001b[0m\n\u001b[1;37m      ^\u001b[0m\n\u001b[1;31mSyntaxError\u001b[0m\u001b[1;31m:\u001b[0m invalid syntax\n"
       ]
      }
     ],
     "prompt_number": 7
    },
    {
     "cell_type": "code",
     "collapsed": false,
     "input": [
      "def LewisPlots2(ringfiles,areafiles,titles):\n",
      "    for i in range(len(ringfiles)-2):\n",
      "        mu2, ring = getData(ringfiles[i])\n",
      "        area_length, area = getData(areafiles[i])\n",
      "        ring = np.array(ring,dtype=int)\n",
      "        area = np.array(area,dtype=float)\n",
      "        area_ring = (area/ring)\n",
      "        area_ring[np.isnan(area_ring)] = 0 \n",
      "        plt.plot(range(4,12),area_ring,'+')\n",
      "    for i in [int(5),int(6)]:\n",
      "        mu2, ring = getData(ringfiles[i])\n",
      "        area_length, area = getData(areafiles[i])\n",
      "        ring = np.array(ring,dtype=int)\n",
      "        area = np.array(area,dtype=float)\n",
      "        area_ring = (area/ring)\n",
      "        area_ring[np.isnan(area_ring)] = 0 \n",
      "        if(5 == i):\n",
      "            plt.plot(range(4,12),area_ring,'x',color='red')\n",
      "        else:\n",
      "            plt.plot(range(4,12),area_ring,'x')\n",
      "    \n",
      "    x=np.array(range(4,11),dtype=float)\n",
      "    y = x/(4*np.tan(np.pi/x))\n",
      "    plt.plot(x,y,'b-',label=\"Area Function\")\n",
      "    \n",
      "    totalarea = np.sum(area)\n",
      "    totalring = 0. \n",
      "    ringsize = 4.\n",
      "    for nring in ring:\n",
      "        totalring += ringsize*nring\n",
      "        ringsize +=1\n",
      "        \n",
      "    totalring = (totalring/3.)\n",
      "           \n",
      "    Lewis =[]\n",
      "    r_0=3.610\n",
      "    for i in range(4,12): \n",
      "        Lewis.append( (2*totalarea/totalring)*((i-r_0)/(6-r_0)) )\n",
      "    np.array(Lewis,dtype=float)\n",
      "    print Lewis\n",
      "    plt.plot(range(4,12),Lewis,'b--')\n",
      "    titles.append(\"$r_o=3.610$\")\n",
      "    plt.xlim(3.7,10.3)\n",
      "    plt.xlabel(\"Ring size, $r$\")\n",
      "    plt.ylabel(\"Average are per ring\")\n",
      "    plt.legend(titles,fontsize=\"small\",loc=4)\n",
      "    plt.savefig(\"lewis_key.png\",dpi=150)"
     ],
     "language": "python",
     "metadata": {},
     "outputs": [],
     "prompt_number": 8
    },
    {
     "cell_type": "code",
     "collapsed": false,
     "input": [
      "LewisPlots2(ringfiles,areafiles,titles)"
     ],
     "language": "python",
     "metadata": {},
     "outputs": [
      {
       "output_type": "stream",
       "stream": "stderr",
       "text": [
        "-c:7: RuntimeWarning: invalid value encountered in divide\n",
        "-c:15: RuntimeWarning: invalid value encountered in divide\n"
       ]
      },
      {
       "output_type": "stream",
       "stream": "stdout",
       "text": [
        "[0.37373698672699251, 1.3320369526936398, 2.2903369186602869, 3.2486368846269342, 4.206936850593582, 5.1652368165602285, 6.1235367825268758, 7.0818367484935232]\n"
       ]
      },
      {
       "metadata": {},
       "output_type": "display_data",
       "png": "[encoded data removed]",
       "text": [
        "<matplotlib.figure.Figure at 0xaf4c38c>"
       ]
      }
     ],
     "prompt_number": 9
    },
    {
     "cell_type": "code",
     "collapsed": false,
     "input": [],
     "language": "python",
     "metadata": {},
     "outputs": []
    }
   ],
   "metadata": {}
  }
 ]
}